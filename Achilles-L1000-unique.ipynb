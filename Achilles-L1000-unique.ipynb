{
 "cells": [
  {
   "cell_type": "code",
   "execution_count": 15,
   "metadata": {},
   "outputs": [],
   "source": [
    "#Remove the duplicate data records and average the same signature data records\n",
    "import pandas as pd\n",
    "pd.set_option('display.max_columns',15)\n",
    "\n",
    "#Create file for writing\n",
    "newRecord_file = open(r\"generate\\Achilles_L1000_PhaseI_96h_unique.txt\",\"w\")\n",
    "newRecord_file.write(\"record\\t\"+\"signature\\t\"+\"cell_line\\t\"+\"drug\\t\"+\"pert_type\\t\"+\"time\\t\"+\"cell_viability\\n\")\n",
    "\n",
    "#Read the data\n",
    "recordtemp = pd.read_table(r\"generate\\Achilles_L1000_PhaseI_96h.txt\",sep='\t',dtype=\"str\")\n",
    "\n",
    "recordtemp_unique = recordtemp['signature'].unique()\n",
    "record_id = 0\n",
    "for i in range(len(recordtemp_unique)):\n",
    "    one_signature = recordtemp_unique[i]\n",
    "    record = recordtemp[recordtemp['signature'] == one_signature]\n",
    "    #record_viability = record['cell_viability']\n",
    "    #print(record_viability)\n",
    "    #break\n",
    "\n",
    "    newRecord_file.write(str(record_id)+\"\\t\")\n",
    "    newRecord_file.write(record['signature'].tolist()[0]+\"\\t\")\n",
    "    newRecord_file.write(record['cell_line'].tolist()[0]+\"\\t\")\n",
    "    newRecord_file.write(record['drug'].tolist()[0]+\"\\t\")\n",
    "    newRecord_file.write(record['pert_type'].tolist()[0]+\"\\t\")\n",
    "    newRecord_file.write('96h'+\"\\t\")\n",
    "    newRecord_file.write(record['cell_viability'].tolist()[0]+\"\\n\")\n",
    "    \n",
    "    record_id = record_id + 1\n",
    "\n",
    "newRecord_file.close()"
   ]
  }
 ],
 "metadata": {
  "kernelspec": {
   "display_name": "Python 3",
   "language": "python",
   "name": "python3"
  },
  "language_info": {
   "codemirror_mode": {
    "name": "ipython",
    "version": 3
   },
   "file_extension": ".py",
   "mimetype": "text/x-python",
   "name": "python",
   "nbconvert_exporter": "python",
   "pygments_lexer": "ipython3",
   "version": "3.6.7"
  }
 },
 "nbformat": 4,
 "nbformat_minor": 2
}
