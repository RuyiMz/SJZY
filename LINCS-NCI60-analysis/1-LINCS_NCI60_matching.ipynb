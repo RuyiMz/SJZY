{
 "cells": [
  {
   "cell_type": "code",
   "execution_count": 2,
   "metadata": {},
   "outputs": [],
   "source": [
    "#Screen the cell line shared with L1000, convert the NSC to SID and calculate whether the drug is effective\n",
    "import pandas as pd\n",
    "import numpy as np\n",
    "\n",
    "#Read the data(NCI60)\n",
    "NCI60_GI50 = pd.read_csv(r\"NCI60_GI50_2016b\\CANCER60GI50.LST\")\n",
    "NCI60_GI50 = pd.DataFrame(NCI60_GI50)"
   ]
  },
  {
   "cell_type": "code",
   "execution_count": 3,
   "metadata": {},
   "outputs": [],
   "source": [
    "#Read the data(LINCS_L1000_Chem)\n",
    "L1000_ChemI = pd.read_csv(r\"LINCS_L1000\\PhaseI\\LINCS_L1000_Chem_PhaseI.csv\")\n",
    "L1000_ChemI_time = L1000_ChemI[L1000_ChemI['pert_itime'] == '24 h'] #Screen the drugs(24h)\n",
    "L1000_ChemII = pd.read_csv(r\"LINCS_L1000\\PhaseII\\LINCS_L1000_Chem_PhaseII.csv\")\n",
    "L1000_ChemII_time = L1000_ChemII[L1000_ChemII['pert_itime'] == '24 h'] #Screen the drugs(24h)\n",
    "cell_line_I = set(L1000_ChemI_time[\"cell_id\"].unique())\n",
    "cell_line_II = set(L1000_ChemII_time[\"cell_id\"].unique())"
   ]
  },
  {
   "cell_type": "code",
   "execution_count": 24,
   "metadata": {},
   "outputs": [],
   "source": [
    "cell_line_NCI60 = list(set(NCI60_GI50['CELL'].unique()))\n",
    "process_cl = []\n",
    "for cl in cell_line_NCI60:\n",
    "    process_cl.append(cl.strip().replace('-','').replace(' ','').replace(\"(TB)\",''))\n",
    "cell_line_NCI60_process = set(process_cl)\n",
    "#print(cell_line_NCI60_process)"
   ]
  },
  {
   "cell_type": "code",
   "execution_count": 28,
   "metadata": {},
   "outputs": [
    {
     "name": "stdout",
     "output_type": "stream",
     "text": [
      "['PC3', 'HT29', 'MCF7', 'HS578T', 'SKBR3']\n"
     ]
    }
   ],
   "source": [
    "print(list(cell_line_II.intersection(cell_line_NCI60_process)))"
   ]
  },
  {
   "cell_type": "code",
   "execution_count": 26,
   "metadata": {},
   "outputs": [
    {
     "name": "stdout",
     "output_type": "stream",
     "text": [
      "{'CD34', 'NKDBA', 'HCC515', 'HEPG2', 'U266', 'PC3', 'MCF7', 'NOMO1', 'HUH7', 'HL60', 'MCF10A', 'NPC', 'NEU', 'PHH', 'A375', 'SKB', 'HT29', 'U937', 'VCAP', 'THP1', 'A549', 'HA1E', 'BT20', 'FIBRNPC', 'HS578T', 'JURKAT', 'SKBR3', 'HEK293T', 'MDAMB231', 'ASC'}\n",
      "{'HUES3', 'SKL', 'CD34', 'HME1', 'YAPC', 'HCC515', 'HEPG2', 'LNCAP', 'PC3', 'MCF7', 'MCF10A', 'NPC', 'NEU', 'A375', 'HUVEC', 'HT29', 'HELA', 'SKL.C', 'A549', 'HA1E', 'BT20', 'NPC.CAS9', 'NPC.TAK', 'HS578T', 'MNEU.E', 'JURKAT', 'SKBR3', 'MDAMB231', 'ASC.C', 'ASC'}\n",
      "{'VDSO/E619', 'SW156', 'ACHN', 'A498', 'MDAMB435', 'U251', 'HT', 'ZR751', 'IGROV1', 'SR', 'RL', 'CHO', 'CACO2', 'CALU1', 'HCT116/P21/B', 'TSUPRI', 'AJUN3', 'SNB19', 'SF268', 'CCD19LU', 'SW1783', 'RKOp53RE1', 'RPMI7951', 'M19MEL', 'T47DERE4', 'OVCAR5', 'SKMEL5', 'DMS114', '7860', 'CXF264L', 'HCT116/PV', 'HS578T', 'OVCAR4', 'M14', 'AC/EBP3', 'JCA1', 'COLO205', 'MDAMB468', 'HCT116/P', 'MLI019', 'RXF631', 'KM12', 'SKOV3', 'COLO741', 'SKMEL28', 'DB', 'NCIH226', 'ZR7530', 'UABMEL3', 'UOK57', 'H1299p53RE29', 'TE85', 'VDSO/CMV8', 'HCT116/P21/C', 'MDAMB435S', 'HCT116/CMV1', 'MLI045', 'NYH', 'SF767', 'MCF7', 'SN12C', 'MLI076', 'UABLG22', 'NCIH23', 'U251/H.Fine', 'UO31', 'SN12K1', 'DLD1', 'P388/ADR', 'CHO/1591', 'WI38', 'SMSKCNR', 'MarBel', 'SNB78', 'A549/ATCC', 'MDAMB231/ATCC', 'T98G/H.Fine', 'DU145', 'ND1', 'LXFS650L', 'HCT116', 'TK164', 'UISOBCA1', 'HCC2998', 'RKOWaf1', 'CAKI1', 'T47D', 'A204', 'VDSO/CMV9', 'MAXF401', 'HT29p53RE22', 'ES2', 'P388', 'MCF7/ATCC', 'NCIH460', 'MALME3M', 'U373/H.Fine', 'HCT116/CMV2', 'UACC257', 'NB4', 'NCIH322M', 'RXF393', 'RXF486L', 'XF498', 'U118/H.Fine', 'COLO746', 'LN229/H.Fine', 'SW1573', 'LXFL529', 'SF539', 'HCT15', 'NCIH522', 'MDAN', 'NYH/ICRF1871', 'A172/H.Fine', 'T47DNFkB15', 'EKVX', 'SKBR3', 'SW620', 'A431', 'SF295', 'AJUN1', 'ACREB1', 'CCRFCEM', 'HCT116/E61', 'AFOS3', 'UACC62', 'VDSO/E618', 'HOP18', 'PC3', 'MLI059', 'CHA59', 'BT549', 'TK10', 'U87/H.Fine', 'SKMEL2', 'OVCAR3', 'HL60', 'VDSO/P', 'SW1088', 'HCT116/P21/A', 'K562', 'SNB75', 'MCF7E6', 'MEXF514L', 'T47DFOS1', 'HT29', 'DMS273', 'KM20L2', 'HCT116/E62', 'AFOS2', 'OVCAR8', 'NCI/ADRRES', 'RPMI8226', 'HOP92', 'HOP62', 'ACREB2', 'LOXIMVI', 'MOLT4'}\n"
     ]
    }
   ],
   "source": [
    "print(cell_line_I)\n",
    "print(cell_line_II)\n",
    "print(cell_line_NCI60_process)"
   ]
  },
  {
   "cell_type": "code",
   "execution_count": 88,
   "metadata": {},
   "outputs": [
    {
     "name": "stdout",
     "output_type": "stream",
     "text": [
      "            NSC CONCUNIT  LCONC      PANEL   CELL  PANELNBR  CELLNBR  \\\n",
      "51            1       M    -4.0  Prostate   PC-3         11        1   \n",
      "111           1       M    -3.0  Prostate   PC-3         11        1   \n",
      "171          17       M    -4.0  Prostate   PC-3         11        1   \n",
      "226          26       M    -4.0  Prostate   PC-3         11        1   \n",
      "345         112       M    -4.0  Prostate   PC-3         11        1   \n",
      "399         171       M    -4.0  Prostate   PC-3         11        1   \n",
      "517         186       M    -4.0  Prostate   PC-3         11        1   \n",
      "641         196       M    -4.0  Prostate   PC-3         11        1   \n",
      "700         197       M    -4.0  Prostate   PC-3         11        1   \n",
      "758         291       M    -4.0  Prostate   PC-3         11        1   \n",
      "816         295       M    -4.0  Prostate   PC-3         11        1   \n",
      "874         295       M    -3.0  Prostate   PC-3         11        1   \n",
      "977         355       M    -4.0  Prostate   PC-3         11        1   \n",
      "1088        384       M    -4.0  Prostate   PC-3         11        1   \n",
      "1145        443       M    -4.0  Prostate   PC-3         11        1   \n",
      "1190        455       M    -4.0  Prostate   PC-3         11        1   \n",
      "1246        473       M    -4.0  Prostate   PC-3         11        1   \n",
      "1306        479       M    -4.0  Prostate   PC-3         11        1   \n",
      "1420        534       M    -4.0  Prostate   PC-3         11        1   \n",
      "1478        577       M    -4.3  Prostate   PC-3         11        1   \n",
      "1537        596       M    -4.0  Prostate   PC-3         11        1   \n",
      "1651        721       M    -4.0  Prostate   PC-3         11        1   \n",
      "1708        721       M    -3.0  Prostate   PC-3         11        1   \n",
      "1765        738       M    -4.0  Prostate   PC-3         11        1   \n",
      "1825        739       M    -4.0  Prostate   PC-3         11        1   \n",
      "1930        740       M    -5.0  Prostate   PC-3         11        1   \n",
      "2038        740       M    -3.6  Prostate   PC-3         11        1   \n",
      "2190        749       M    -4.0  Prostate   PC-3         11        1   \n",
      "2270        750       M    -3.6  Prostate   PC-3         11        1   \n",
      "2333        750       M    -3.0  Prostate   PC-3         11        1   \n",
      "...         ...      ...    ...        ...    ...       ...      ...   \n",
      "3052298  801813       M    -4.0  Prostate   PC-3         11        1   \n",
      "3052356  802100       M    -4.0  Prostate   PC-3         11        1   \n",
      "3052415  802101       M    -4.0  Prostate   PC-3         11        1   \n",
      "3052474  802450       M    -4.0  Prostate   PC-3         11        1   \n",
      "3052533  802451       M    -4.0  Prostate   PC-3         11        1   \n",
      "3052592  802548       M    -4.0  Prostate   PC-3         11        1   \n",
      "3052651  802820       M    -4.0  Prostate   PC-3         11        1   \n",
      "3052710  802821       M    -4.0  Prostate   PC-3         11        1   \n",
      "3052769  802822       M    -4.0  Prostate   PC-3         11        1   \n",
      "3052828  803014       M    -4.0  Prostate   PC-3         11        1   \n",
      "3052887  803247       M    -4.0  Prostate   PC-3         11        1   \n",
      "3052946  803248       M    -4.0  Prostate   PC-3         11        1   \n",
      "3053005  803408       M    -4.0  Prostate   PC-3         11        1   \n",
      "3053064  803409       M    -4.0  Prostate   PC-3         11        1   \n",
      "3053123  803410       M    -4.0  Prostate   PC-3         11        1   \n",
      "3053181  803552       M    -4.0  Prostate   PC-3         11        1   \n",
      "3053240  803600       M    -4.0  Prostate   PC-3         11        1   \n",
      "3053299  803601       M    -4.0  Prostate   PC-3         11        1   \n",
      "3053357  803789       M    -4.0  Prostate   PC-3         11        1   \n",
      "3053416  803790       M    -4.0  Prostate   PC-3         11        1   \n",
      "3053474  804040       M    -4.0  Prostate   PC-3         11        1   \n",
      "3053532  804041       M    -4.0  Prostate   PC-3         11        1   \n",
      "3053590  804253       M    -4.0  Prostate   PC-3         11        1   \n",
      "3053648  804254       M    -4.0  Prostate   PC-3         11        1   \n",
      "3053706  804518       M    -4.0  Prostate   PC-3         11        1   \n",
      "3053764  804520       M    -4.0  Prostate   PC-3         11        1   \n",
      "3053822  804521       M    -4.0  Prostate   PC-3         11        1   \n",
      "3053880  804861       M    -4.0  Prostate   PC-3         11        1   \n",
      "3053938  804862       M    -4.0  Prostate   PC-3         11        1   \n",
      "3053996  804962       M    -4.3  Prostate   PC-3         11        1   \n",
      "\n",
      "         NLOGGI50  INDN  TOTN STDDEV  \n",
      "51          4.805     1     1      .  \n",
      "111         4.765     2     2  0.159  \n",
      "171         6.334     3     3  0.114  \n",
      "226         5.365     1     1      .  \n",
      "345         6.455     2     2  0.078  \n",
      "399         4.000     1     1      .  \n",
      "517         4.495     3     3  0.085  \n",
      "641         4.960     1     1      .  \n",
      "700         5.375     1     1      .  \n",
      "758         4.000     1     1      .  \n",
      "816         4.000     1     1      .  \n",
      "874         3.000     1     2      .  \n",
      "977         5.014     2     2  0.109  \n",
      "1088        5.609     1     1      .  \n",
      "1145        4.000     1     1      .  \n",
      "1190        5.464     1     1      .  \n",
      "1246        4.000     1     1      .  \n",
      "1306        4.000     1     1      .  \n",
      "1420        4.917     2     2  0.012  \n",
      "1478        4.301     1     1      .  \n",
      "1537        5.734     1     1      .  \n",
      "1651        4.000     1     1      .  \n",
      "1708        3.764     1     1      .  \n",
      "1765        5.625     1     1      .  \n",
      "1825        7.617     2     2  0.541  \n",
      "1930        8.701     4     4  0.361  \n",
      "2038        6.960    32   159  1.382  \n",
      "2190        5.953     3     4  0.154  \n",
      "2270        3.629     4    58  0.054  \n",
      "2333        3.000     4     5  0.000  \n",
      "...           ...   ...   ...    ...  \n",
      "3052298     4.290     1     1      .  \n",
      "3052356     6.381     1     2      .  \n",
      "3052415     4.114     1     1      .  \n",
      "3052474     7.328     1     2      .  \n",
      "3052533     4.055     1     1      .  \n",
      "3052592     4.000     1     1      .  \n",
      "3052651     6.789     1     2      .  \n",
      "3052710     7.118     1     2      .  \n",
      "3052769     6.063     1     1      .  \n",
      "3052828     4.905     1     1      .  \n",
      "3052887     4.000     1     1      .  \n",
      "3052946     6.131     1     2      .  \n",
      "3053005     4.238     1     1      .  \n",
      "3053064     5.594     1     1      .  \n",
      "3053123     4.564     1     2      .  \n",
      "3053181     4.000     1     1      .  \n",
      "3053240     4.343     1     1      .  \n",
      "3053299     5.298     1     1      .  \n",
      "3053357     5.159     1     1      .  \n",
      "3053416     4.000     1     1      .  \n",
      "3053474     4.000     1     1      .  \n",
      "3053532     5.703     1     1      .  \n",
      "3053590     4.684     1     1      .  \n",
      "3053648     4.573     1     1      .  \n",
      "3053706     5.069     1     1      .  \n",
      "3053764     4.695     1     1      .  \n",
      "3053822     5.743     1     1      .  \n",
      "3053880     4.233     1     1      .  \n",
      "3053938     4.000     1     1      .  \n",
      "3053996     4.301     1     1      .  \n",
      "\n",
      "[38358 rows x 11 columns]\n"
     ]
    }
   ],
   "source": [
    "print(NCI60_GI50[NCI60_GI50['CELL'] == 'PC-3 '])"
   ]
  },
  {
   "cell_type": "code",
   "execution_count": 71,
   "metadata": {},
   "outputs": [
    {
     "data": {
      "text/plain": [
       "95"
      ]
     },
     "execution_count": 71,
     "metadata": {},
     "output_type": "execute_result"
    }
   ],
   "source": [
    "#Create a file to record cell lines shared with LINCS_L1000\n",
    "NCI60_GI50_sharedcl = open(r'NCI60_GI50_sharedcl.txt','a')\n",
    "NCI60_GI50_sharedcl.write(\"SID\\tNSC\\tCONCUNIT\\tLCONC\\tPANEL\\tCELL\\tPANELNBR\\tCELLNBR\\tNLOGGI50\\tINDN\\tTOTN\\tSTDDEV\\tDelta\\tIsEffective\\n\")"
   ]
  },
  {
   "cell_type": "code",
   "execution_count": 72,
   "metadata": {},
   "outputs": [],
   "source": [
    "#Query data from NCI60\n",
    "NCI60_SID_Query = pd.read_excel(r\"NCI60_GI50_2016b\\NSC_QUERY_LIST\\output\\NSC_QUERY_LIST.xlsx\")"
   ]
  },
  {
   "cell_type": "code",
   "execution_count": 78,
   "metadata": {},
   "outputs": [
    {
     "name": "stdout",
     "output_type": "stream",
     "text": [
      "47615\n"
     ]
    }
   ],
   "source": [
    "#Read the original data(NCI60)\n",
    "NCI60_GI50 = pd.read_csv(r\"NCI60_GI50_2016b\\CANCER60GI50.LST\")\n",
    "#common cell line：HT29，PC3，SW620，SKBR3，SKMEL28，MCF7，HCT116\n",
    "selected_info = NCI60_GI50[NCI60_GI50['CELL'] == 'HL-60(TB) ']\n",
    "selected_info = selected_info.reset_index(drop=True)\n",
    "for selected_info_index in range(len(selected_info)):\n",
    "    selected_NSC = NCI60_SID_Query[NCI60_SID_Query['NSC'] == selected_info.at[selected_info_index,'NSC']].reset_index(drop=True)\n",
    "    if selected_NSC.empty == True:\n",
    "        continue\n",
    "    NCI60_GI50_sharedcl.write(str(selected_NSC.at[0,'PubChem SID'])+\"\\t\")\n",
    "    #print(selected_info.at[selected_info_index,'NSC'])\n",
    "    NCI60_GI50_sharedcl.write(str(selected_info.at[selected_info_index,'NSC'])+\"\\t\")\n",
    "    NCI60_GI50_sharedcl.write(str(selected_info.at[selected_info_index,'CONCUNIT'])+\"\\t\")\n",
    "    NCI60_GI50_sharedcl.write(str(selected_info.at[selected_info_index,'LCONC'])+\"\\t\")\n",
    "    NCI60_GI50_sharedcl.write(str(selected_info.at[selected_info_index,'PANEL'])+\"\\t\")\n",
    "    NCI60_GI50_sharedcl.write('HL60'+\"\\t\")\n",
    "    NCI60_GI50_sharedcl.write(str(selected_info.at[selected_info_index,'PANELNBR'])+\"\\t\")\n",
    "    NCI60_GI50_sharedcl.write(str(selected_info.at[selected_info_index,'CELLNBR'])+\"\\t\")\n",
    "    NCI60_GI50_sharedcl.write(str(selected_info.at[selected_info_index,'NLOGGI50'])+\"\\t\")\n",
    "    NCI60_GI50_sharedcl.write(str(selected_info.at[selected_info_index,'INDN'])+\"\\t\")\n",
    "    NCI60_GI50_sharedcl.write(str(selected_info.at[selected_info_index,'TOTN'])+\"\\t\")\n",
    "    NCI60_GI50_sharedcl.write(str(selected_info.at[selected_info_index,'STDDEV'])+\"\\t\")\n",
    "    delta_concentration = -selected_info.at[selected_info_index,'NLOGGI50'] - selected_info.at[selected_info_index,'LCONC']\n",
    "    NCI60_GI50_sharedcl.write(str(delta_concentration)+\"\\t\")\n",
    "    if delta_concentration < 0:\n",
    "        NCI60_GI50_sharedcl.write(str(1)+\"\\n\")\n",
    "    else:\n",
    "        NCI60_GI50_sharedcl.write(str(0)+\"\\n\")\n",
    "\n",
    "print(len(selected_info))"
   ]
  },
  {
   "cell_type": "code",
   "execution_count": 79,
   "metadata": {},
   "outputs": [],
   "source": [
    "NCI60_GI50_sharedcl.close()"
   ]
  },
  {
   "cell_type": "code",
   "execution_count": 8,
   "metadata": {},
   "outputs": [
    {
     "name": "stdout",
     "output_type": "stream",
     "text": [
      "C17H14O4S\n",
      "314.4\n",
      "CS(=O)(=O)C1=CC=C(C=C1)C2=C(C(=O)OC2)C3=CC=CC=C3\n"
     ]
    }
   ],
   "source": [
    "#import package PubChemPy\n",
    "import pubchempy as pcp\n",
    "\n",
    "c = pcp.Compound.from_cid(5090)\n",
    "print(c.molecular_formula)\n",
    "\n",
    "print(c.molecular_weight)\n",
    "\n",
    "print(c.isomeric_smiles)\n",
    "\n",
    "#print(c.synonyms)"
   ]
  },
  {
   "cell_type": "code",
   "execution_count": 10,
   "metadata": {},
   "outputs": [
    {
     "name": "stdout",
     "output_type": "stream",
     "text": [
      "[Compound(5793)]\n"
     ]
    }
   ],
   "source": [
    "results = pcp.get_compounds('Glucose','name')\n",
    "print(results)"
   ]
  },
  {
   "cell_type": "code",
   "execution_count": 16,
   "metadata": {},
   "outputs": [
    {
     "name": "stdout",
     "output_type": "stream",
     "text": [
      "['1,4-Toluquinone', '2,4-dione, 2-methyl-', '2-Methyl-1,4-benzoquinone', '2-Methyl-1,4-quinone', '2-Methyl-p-benzoquinone', '2-Methylbenzoquinone', '2-Methylbenzoquinone-1,4', '2-Methylquinone', '553-97-9', 'Methyl-1,4-benzoquinone', 'Methyl-p-benzoquinone', 'Methylbenzoquinone', 'Methylquinone', 'NSC-1', 'NSC1', 'Toluquinone', 'Tolylquinone', 'WLN: L6V DVJ B1', 'p-Benzoquinone, 2-methyl-', 'p-Toluquinone']\n",
      "11122\n"
     ]
    }
   ],
   "source": [
    "substance = pcp.Substance.from_sid(66954)\n",
    "print(substance.synonyms)\n",
    "print(substance.standardized_cid)"
   ]
  }
 ],
 "metadata": {
  "kernelspec": {
   "display_name": "Python 3",
   "language": "python",
   "name": "python3"
  },
  "language_info": {
   "codemirror_mode": {
    "name": "ipython",
    "version": 3
   },
   "file_extension": ".py",
   "mimetype": "text/x-python",
   "name": "python",
   "nbconvert_exporter": "python",
   "pygments_lexer": "ipython3",
   "version": "3.6.7"
  }
 },
 "nbformat": 4,
 "nbformat_minor": 2
}
